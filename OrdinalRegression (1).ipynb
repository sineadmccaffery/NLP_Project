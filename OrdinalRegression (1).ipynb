{
  "cells": [
    {
      "cell_type": "code",
      "source": [
        "from google.colab import drive\n",
        "drive.mount('/content/drive')"
      ],
      "metadata": {
        "colab": {
          "base_uri": "https://localhost:8080/"
        },
        "id": "f2ZAiyLeTMKf",
        "outputId": "0e05593f-26b8-4fdc-b593-913d96b16486"
      },
      "execution_count": 72,
      "outputs": [
        {
          "output_type": "stream",
          "name": "stdout",
          "text": [
            "Drive already mounted at /content/drive; to attempt to forcibly remount, call drive.mount(\"/content/drive\", force_remount=True).\n"
          ]
        }
      ]
    },
    {
      "cell_type": "code",
      "source": [
        "from scipy import sparse\n",
        "from sklearn import linear_model\n",
        "from collections import Counter\n",
        "from textblob import TextBlob\n",
        "import numpy as np\n",
        "import operator\n",
        "import nltk\n",
        "from nltk.corpus import stopwords\n",
        "nltk.download('stopwords')\n",
        "nltk.download('punkt_tab')\n",
        "\n",
        "import math\n",
        "from scipy.stats import norm\n",
        "from sklearn.metrics import confusion_matrix, ConfusionMatrixDisplay"
      ],
      "metadata": {
        "colab": {
          "base_uri": "https://localhost:8080/"
        },
        "id": "2yzVXw--TDlt",
        "outputId": "128f05ba-05d6-44ae-e979-41eaf67a05aa"
      },
      "execution_count": 73,
      "outputs": [
        {
          "output_type": "stream",
          "name": "stderr",
          "text": [
            "[nltk_data] Downloading package stopwords to /root/nltk_data...\n",
            "[nltk_data]   Package stopwords is already up-to-date!\n",
            "[nltk_data] Downloading package punkt_tab to /root/nltk_data...\n",
            "[nltk_data]   Package punkt_tab is already up-to-date!\n"
          ]
        }
      ]
    },
    {
      "cell_type": "markdown",
      "source": [
        "## **MAJORITY CLASSIFIER**"
      ],
      "metadata": {
        "id": "anR3EJs2OdwQ"
      }
    },
    {
      "cell_type": "markdown",
      "source": [
        "Majority class classifier, which identifies the class used most frequently in the training data and predicts every data point in the evaluation data to be that class.\n"
      ],
      "metadata": {
        "id": "S8U77GEXOl4j"
      }
    },
    {
      "cell_type": "code",
      "source": [
        "def load_data(filename):\n",
        "    X = []\n",
        "    Y = []\n",
        "    with open(filename, encoding=\"utf-8\") as file:\n",
        "        for line in file:\n",
        "            cols = line.split(\"\\t\")\n",
        "            idd = cols[0]\n",
        "            label = cols[2].lstrip().rstrip()\n",
        "            text = cols[1]\n",
        "\n",
        "            X.append(text)\n",
        "            Y.append(label)\n",
        "\n",
        "    return X, Y"
      ],
      "metadata": {
        "id": "VqXV9ITgOhff"
      },
      "execution_count": 74,
      "outputs": []
    },
    {
      "cell_type": "code",
      "source": [
        "def majority_class(trainY, evalY):\n",
        "    labelCounts=Counter()\n",
        "    for label in trainY:\n",
        "        labelCounts[label]+=1\n",
        "    majority_class=labelCounts.most_common(1)[0][0]\n",
        "\n",
        "    correct=0.\n",
        "    for label in evalY:\n",
        "        if label == majority_class:\n",
        "            correct+=1\n",
        "    return majority_class, correct/len(evalY)"
      ],
      "metadata": {
        "id": "Ym7L-RDDOrG9"
      },
      "execution_count": 75,
      "outputs": []
    },
    {
      "cell_type": "code",
      "source": [
        "trainingFile = \"drive/MyDrive/train.txt\"\n",
        "devFile = \"drive/MyDrive/dev.txt\"\n",
        "testFile = \"drive/MyDrive/test.txt\"\n",
        "\n",
        "trainX, trainY=load_data(trainingFile)\n",
        "devX, devY=load_data(devFile)\n",
        "testX, testY=load_data(testFile)\n",
        "\n",
        "mc, mc_devAcc=majority_class(trainY, devY)\n",
        "_, mc_testAcc=majority_class(trainY, testY)\n",
        "\n",
        "print(\"Majority class: %s, dev accuracy: %.3f, test accuracy: %.3f\" % (mc, mc_devAcc, mc_testAcc))"
      ],
      "metadata": {
        "colab": {
          "base_uri": "https://localhost:8080/"
        },
        "id": "Pccf858vOtjz",
        "outputId": "ee3b5b66-86b2-4743-aa67-e9bf342260b8"
      },
      "execution_count": 76,
      "outputs": [
        {
          "output_type": "stream",
          "name": "stdout",
          "text": [
            "Majority class: Strongly Worded, dev accuracy: 0.440, test accuracy: 0.380\n"
          ]
        }
      ]
    },
    {
      "cell_type": "markdown",
      "source": [
        "## **ORDINAL REGRESSION**"
      ],
      "metadata": {
        "id": "95vSkmniOaBe"
      }
    },
    {
      "cell_type": "markdown",
      "metadata": {
        "id": "yd1rM0rM7qL1"
      },
      "source": [
        "[Ordinal regression](https://en.wikipedia.org/wiki/Ordinal_regression) is a classification method for categories on an ordinal scale -- e.g. [1, 2, 3, 4, 5] or [G, PG, PG-13, R].  This notebook implements ordinal regression using the method of [Frank and Hal 2001](https://www.cs.waikato.ac.nz/~eibe/pubs/ordinal_tech_report.pdf), which transforms a k-multiclass classifier into k-1 binary classifiers (each of which predicts whether a data point is above a threshold in the ordinal scale -- e.g., whether a movie is \"higher\" than PG).  This method can be used with any binary classification method that outputs probabilities; here L2-regularizaed binary logistic regression is used.\n",
        "\n",
        "This notebook trains a model (on `train.txt`), optimizes L2 regularization strength on `dev.txt`, and evaluates performance on `test.txt`.  Reports test accuracy with 95% confidence intervals."
      ]
    },
    {
      "cell_type": "code",
      "execution_count": 77,
      "metadata": {
        "id": "ZyBwyGUP7qL7"
      },
      "outputs": [],
      "source": [
        "def load_ordinal_data(filename, ordering):\n",
        "    X = []\n",
        "    Y = []\n",
        "    orig_Y=[]\n",
        "    for ordinal in ordering:\n",
        "        Y.append([])\n",
        "\n",
        "    with open(filename, encoding=\"utf-8\") as file:\n",
        "        for line in file:\n",
        "            cols = line.split(\"\\t\")\n",
        "            idd = cols[0]\n",
        "            label = cols[2].lstrip().rstrip()\n",
        "            text = cols[1]\n",
        "\n",
        "            X.append(text)\n",
        "\n",
        "            index = ordering.index(label)\n",
        "            for i in range(len(ordering)):\n",
        "                if index > i:\n",
        "                    Y[i].append(1)\n",
        "                else:\n",
        "                    Y[i].append(0)\n",
        "            orig_Y.append(label)\n",
        "\n",
        "    return X, Y, orig_Y"
      ]
    },
    {
      "cell_type": "code",
      "execution_count": 78,
      "metadata": {
        "id": "8ouOURYf7qL7"
      },
      "outputs": [],
      "source": [
        "class OrdinalClassifier:\n",
        "\n",
        "    def __init__(self, ordinal_values, feature_method, trainX, trainY, devX, devY, testX, testY, orig_trainY, orig_devY, orig_testY):\n",
        "        self.ordinal_values=ordinal_values\n",
        "        self.feature_vocab = {}\n",
        "        self.feature_method = feature_method\n",
        "        self.min_feature_count=2\n",
        "        self.log_regs = [None]* (len(self.ordinal_values)-1)\n",
        "\n",
        "        self.testX_raw = testX\n",
        "        self.devX_raw = devX\n",
        "\n",
        "        self.trainY=trainY\n",
        "        self.devY=devY\n",
        "        self.testY=testY\n",
        "\n",
        "        self.orig_trainY=orig_trainY\n",
        "        self.orig_devY=orig_devY\n",
        "        self.orig_testY=orig_testY\n",
        "\n",
        "        self.trainX = self.process(trainX, training=True)\n",
        "        self.devX = self.process(devX, training=False)\n",
        "        self.testX = self.process(testX, training=False)\n",
        "\n",
        "    # Featurize entire dataset\n",
        "    def featurize(self, data):\n",
        "        featurized_data = []\n",
        "        for text in data:\n",
        "            feats = self.feature_method(text)\n",
        "            featurized_data.append(feats)\n",
        "        return featurized_data\n",
        "\n",
        "    # Read dataset and returned featurized representation as sparse matrix + label array\n",
        "    def process(self, X_data, training = False):\n",
        "\n",
        "        data = self.featurize(X_data)\n",
        "\n",
        "        if training:\n",
        "            fid = 0\n",
        "            feature_doc_count = Counter()\n",
        "            for feats in data:\n",
        "                for feat in feats:\n",
        "                    feature_doc_count[feat]+= 1\n",
        "\n",
        "            for feat in feature_doc_count:\n",
        "                if feature_doc_count[feat] >= self.min_feature_count:\n",
        "                    self.feature_vocab[feat] = fid\n",
        "                    fid += 1\n",
        "\n",
        "        F = len(self.feature_vocab)\n",
        "        D = len(data)\n",
        "        X = sparse.dok_matrix((D, F))\n",
        "        for idx, feats in enumerate(data):\n",
        "            for feat in feats:\n",
        "                if feat in self.feature_vocab:\n",
        "                    X[idx, self.feature_vocab[feat]] = feats[feat]\n",
        "\n",
        "        return X\n",
        "\n",
        "\n",
        "    def train(self):\n",
        "        (D,F) = self.trainX.shape\n",
        "\n",
        "        for idx, ordinal_value in enumerate(self.ordinal_values[:-1]):\n",
        "            best_dev_accuracy=0\n",
        "            best_model=None\n",
        "            for C in [0.1, 1, 10, 100]:\n",
        "\n",
        "                log_reg = linear_model.LogisticRegression(C = C, max_iter=1000)\n",
        "                log_reg.fit(self.trainX, self.trainY[idx])\n",
        "                development_accuracy = log_reg.score(self.devX, self.devY[idx])\n",
        "                if development_accuracy > best_dev_accuracy:\n",
        "                    best_dev_accuracy=development_accuracy\n",
        "                    best_model=log_reg\n",
        "\n",
        "\n",
        "            self.log_regs[idx]=best_model\n",
        "\n",
        "    def test(self):\n",
        "        cor = tot = 0\n",
        "\n",
        "        counts=Counter()\n",
        "        preds=[None]*(len(self.ordinal_values)-1)\n",
        "        for idx, ordinal_value in enumerate(self.ordinal_values[:-1]):\n",
        "            preds[idx]=self.log_regs[idx].predict_proba(self.testX)[:,1]\n",
        "\n",
        "        preds=np.array(preds)\n",
        "        for data_point in range(len(preds[0])):\n",
        "            ordinal_preds=np.zeros(len(self.ordinal_values))\n",
        "            for ordinal in range(len(self.ordinal_values)-1):\n",
        "                if ordinal == 0:\n",
        "                    ordinal_preds[ordinal]=1-preds[ordinal][data_point]\n",
        "                else:\n",
        "                    ordinal_preds[ordinal]=preds[ordinal-1][data_point]-preds[ordinal][data_point]\n",
        "\n",
        "            ordinal_preds[len(self.ordinal_values)-1]=preds[len(preds)-1][data_point]\n",
        "\n",
        "            prediction=np.argmax(ordinal_preds)\n",
        "            counts[prediction]+=1\n",
        "            if prediction == self.ordinal_values.index(self.orig_testY[data_point]):\n",
        "                cor+=1\n",
        "            tot+=1\n",
        "\n",
        "        return cor/tot\n",
        "\n",
        "  # FOR DEBUGGING / EVALUATION...\n",
        "    def example_test(self, dataset=\"test\", use_override=True, use_rule_only=False):\n",
        "      if dataset == \"test\":\n",
        "        dataX = self.testX_raw\n",
        "        goldY = self.orig_testY\n",
        "      elif dataset == \"dev\":\n",
        "        dataX = self.devX_raw\n",
        "        goldY = self.orig_devY\n",
        "      else:\n",
        "        raise ValueError(\"dataset must be 'test' or 'dev'\")\n",
        "\n",
        "      cor = tot = 0\n",
        "      for i, sentence in enumerate(dataX):\n",
        "        if use_rule_only:\n",
        "          predicted_label = self.predict_by_score(sentence)\n",
        "        else:\n",
        "          predicted_label, _ = self.predict_one(sentence, override=use_override)\n",
        "\n",
        "        if predicted_label == goldY[i]:\n",
        "            cor += 1\n",
        "        tot += 1\n",
        "\n",
        "      return cor / tot\n",
        "\n",
        "    def predict_one(self, sentence, override=False):\n",
        "      feats = self.feature_method(sentence)\n",
        "\n",
        "      # Vectorize for model prediction\n",
        "      F = len(self.feature_vocab)\n",
        "      X = sparse.dok_matrix((1, F))\n",
        "      for feat in feats:\n",
        "          if feat in self.feature_vocab:\n",
        "              X[0, self.feature_vocab[feat]] = feats[feat]\n",
        "\n",
        "      # Get ordinal class probabilities\n",
        "      preds = [lr.predict_proba(X)[0][1] for lr in self.log_regs]\n",
        "      ordinal_probs = np.zeros(len(self.ordinal_values))\n",
        "      ordinal_probs[0] = 1 - preds[0]\n",
        "      for i in range(1, len(self.ordinal_values) - 1):\n",
        "          ordinal_probs[i] = preds[i - 1] - preds[i]\n",
        "      ordinal_probs[-1] = preds[-1]\n",
        "\n",
        "      model_margin = np.sort(ordinal_probs)[-1] - np.sort(ordinal_probs)[-2]\n",
        "      model_pred_idx = np.argmax(ordinal_probs)\n",
        "      model_label = self.ordinal_values[model_pred_idx]\n",
        "\n",
        "      if override:\n",
        "         # Rule-based score\n",
        "          scores = self.score_by_class(feats)\n",
        "          rule_label = max(scores, key=scores.get)\n",
        "          rule_conf = scores[rule_label]\n",
        "          # Thresholds per class\n",
        "          thresholds = {\n",
        "              \"Apathetic\": 1.5,\n",
        "              \"Moderate\": 2.0,\n",
        "              \"Strongly Worded\": 2.5,\n",
        "              \"Extreme\": 1.5\n",
        "          }\n",
        "\n",
        "          # Decide final label\n",
        "          override_applied = False\n",
        "          if (override and rule_label != model_label\n",
        "              and rule_conf > thresholds[rule_label]\n",
        "              and model_margin < 0.4):\n",
        "              return rule_label, ordinal_probs\n",
        "      return model_label, ordinal_probs\n",
        "\n",
        "    def print_feature_importance(self, top_n=15, high_only = False):\n",
        "      inv_vocab = {idx: feat for feat, idx in self.feature_vocab.items()}\n",
        "      for i, model in enumerate(self.log_regs):\n",
        "          print(f\"\\n--- Feature importances for {self.ordinal_values[i+1]} and above ---\")\n",
        "          coef = model.coef_[0]\n",
        "          sorted_idx = coef.argsort()\n",
        "\n",
        "          if not high_only:\n",
        "            print(\"\\nLowest-weighted features:\")\n",
        "            for idx in sorted_idx[:top_n]:\n",
        "                print(f\"{inv_vocab[idx]:<30} {coef[idx]:.3f}\")\n",
        "\n",
        "          print(\"\\nHighest-weighted features:\")\n",
        "          for idx in reversed(sorted_idx[-top_n:]):\n",
        "              print(f\"{inv_vocab[idx]:<30} {coef[idx]:.3f}\")\n",
        "\n",
        "    def score_by_class(self, feats):\n",
        "      scores = {\n",
        "          \"Apathetic\": 0.0,\n",
        "          \"Moderate\": 0.0,\n",
        "          \"Strongly Worded\": 0.0,\n",
        "          \"Extreme\": 0.0\n",
        "      }\n",
        "\n",
        "      subj = feats.get(\"sentiment_subjectivity\", 0)\n",
        "      hate = feats.get(\"has_hate_speech\", 0)\n",
        "      violence = feats.get(\"has_violent_terms\", 0)\n",
        "      ideological = feats.get(\"has_ideological_violence\", 0)\n",
        "      imperative = feats.get(\"imperative_present\", 0)\n",
        "      modal = feats.get(\"modal_present\", 0)\n",
        "      pron_we = feats.get(\"pronoun_we_group\", 0)\n",
        "      pron_they = feats.get(\"pronoun_they_group\", 0)\n",
        "      apathy = feats.get(\"apathetic_signal\", 0)\n",
        "      military = feats.get(\"has_military_terms\", 0)\n",
        "      terrorism = feats.get(\"terrorism_term\", 0)\n",
        "      group_blaming = feats.get(\"group_blaming_language\", 0)\n",
        "      extreme_pattern = feats.get(\"extreme_pattern_match\", 0)\n",
        "\n",
        "      # --- Rhetorical count from phrase indicators ---\n",
        "      rhetorical_keywords = [\n",
        "          \"we must\", \"fight\", \"rigged\", \"enemy\", \"take back\", \"stand up\",\n",
        "          \"we will never\", \"reclaim\", \"stop the steal\"\n",
        "      ]\n",
        "      rhet_count = sum([feats.get(f\"rhet_{phrase.replace(' ', '_')}\", 0) for phrase in rhetorical_keywords])\n",
        "\n",
        "      # Apathetic\n",
        "      scores[\"Apathetic\"] += 2.0 * apathy\n",
        "      scores[\"Apathetic\"] += max(0, 0.5 - subj)  # low subjectivity = apathetic\n",
        "      scores[\"Apathetic\"] -= 1.5 * imperative + modal + rhet_count\n",
        "      scores[\"Apathetic\"] -= 2.0 * violence + 2.0 * hate\n",
        "\n",
        "      # Moderate\n",
        "      scores[\"Moderate\"] += 1.0 * pron_we + 0.5 * modal\n",
        "      scores[\"Moderate\"] += max(0.5 - subj, 0.2)\n",
        "      scores[\"Moderate\"] += 1.0 if violence == 0 and hate == 0 else 0\n",
        "      scores[\"Moderate\"] -= 1.0 * violence + 1.0 * hate\n",
        "\n",
        "      # Strongly Worded\n",
        "      scores[\"Strongly Worded\"] += 1.5 * rhet_count + subj + imperative\n",
        "      scores[\"Strongly Worded\"] += 0.7 * pron_they + 0.7 * group_blaming\n",
        "      scores[\"Strongly Worded\"] += modal + 0.5 * hate\n",
        "\n",
        "      # Extreme\n",
        "      scores[\"Extreme\"] += 2.5 * violence + 2.5 * hate + 2.0 * ideological\n",
        "      scores[\"Extreme\"] += 1.0 * pron_they + 1.2 * military + 1.0 * terrorism\n",
        "      scores[\"Extreme\"] += 1.5 * imperative + 1.5 * extreme_pattern\n",
        "      scores[\"Extreme\"] += 0.5 * group_blaming  # group blame often escalates\n",
        "\n",
        "      return scores\n",
        "\n",
        "    def predict_by_score(self, sentence):\n",
        "      # Get features\n",
        "      feats = self.feature_method(sentence)\n",
        "\n",
        "      # Get heuristic scores\n",
        "      scores = self.score_by_class(feats)\n",
        "\n",
        "      # Pick label with highest score\n",
        "      predicted_label = max(scores, key=scores.get)\n",
        "\n",
        "      return predicted_label\n",
        "\n",
        "    def get_predictions(self):\n",
        "      dataX = self.testX_raw\n",
        "      goldY = self.orig_testY\n",
        "      X_sparse = self.testX\n",
        "\n",
        "      y_true = []\n",
        "      y_pred = []\n",
        "\n",
        "      preds = [lr.predict_proba(X_sparse)[:, 1] for lr in self.log_regs]\n",
        "      preds = np.array(preds)\n",
        "\n",
        "      for i in range(len(preds[0])):\n",
        "        ordinal_probs = np.zeros(len(self.ordinal_values))\n",
        "        ordinal_probs[0] = 1 - preds[0][i]\n",
        "        for j in range(1, len(self.ordinal_values) - 1):\n",
        "            ordinal_probs[j] = preds[j - 1][i] - preds[j][i]\n",
        "        ordinal_probs[-1] = preds[-1][i]\n",
        "\n",
        "        pred_idx = np.argmax(ordinal_probs)\n",
        "        gold_idx = self.ordinal_values.index(goldY[i])\n",
        "\n",
        "        y_pred.append(self.ordinal_values[pred_idx])\n",
        "        y_true.append(self.ordinal_values[gold_idx])\n",
        "\n",
        "      return y_true, y_pred"
      ]
    },
    {
      "cell_type": "code",
      "source": [
        "# attempting to create a formula to predict with... not as good as improved_bow_featurized.\n",
        "def tone_score_featurized(text):\n",
        "    feats = Counter()\n",
        "    words = nltk.word_tokenize(text)\n",
        "    lowered = [w.lower() for w in words]\n",
        "    lowered_text = \" \".join(lowered)\n",
        "\n",
        "    # --- Sentiment (from TextBlob) ---\n",
        "    blob = TextBlob(text)\n",
        "    feats[\"sentiment_subjectivity\"] = blob.sentiment.subjectivity\n",
        "\n",
        "    # --- Hate speech / insult terms ---\n",
        "    hate_terms = {\"traitor\", \"invader\", \"scum\", \"vermin\", \"filth\", \"rapist\", \"illegals\",\n",
        "                  \"thugs\", \"cruel\", \"loser\", \"dumb\", \"hate\", \"evil\", \"criminals\", \"animals\",\n",
        "                  \"terrorists\", \"kill\", \"murder\", \"slaughter\", \"extremist\", \"extremists\"}\n",
        "    hate_count = sum(1 for word in lowered if word in hate_terms)\n",
        "    feats[\"has_hate_speech\"] = int(hate_count > 0)\n",
        "\n",
        "    # --- Violent Terms ---\n",
        "    violent_terms = {\"murder\", \"slaughter\", \"execute\", \"exterminate\", \"annihilate\",\n",
        "                     \"eradicate\", \"kill\", \"stab\", \"shoot\", \"lynch\", \"hunt\", \"abuse\", \"hang\"}\n",
        "    violent_count = sum(1 for word in lowered if word in violent_terms)\n",
        "    feats[\"has_violent_terms\"] = int(violent_count > 0)\n",
        "\n",
        "    # --- Ideological Violence ---\n",
        "    feats[\"has_ideological_violence\"] = int(\"beliefs\" in lowered and any(w in lowered for w in violent_terms))\n",
        "\n",
        "    # --- Custom rhetorical keyword features ---\n",
        "    rhetorical_phrases = {\n",
        "        \"we must\", \"fight\", \"rigged\", \"enemy\", \"take back\", \"stand up\",\n",
        "        \"we will never\", \"reclaim\", \"stop the steal\"\n",
        "    }\n",
        "    feats[\"rhetorical_count\"] = sum(1 for phrase in rhetorical_phrases if phrase in lowered_text)\n",
        "\n",
        "    # --- Pronoun skew ---\n",
        "    pronoun_counts = Counter(word for word in lowered if word in {\"we\", \"our\", \"us\", \"they\", \"them\", \"their\", \"theirs\"})\n",
        "    feats[\"pronoun_skew\"] = pronoun_counts[\"they\"] - pronoun_counts[\"we\"]\n",
        "\n",
        "    # --- Apathetic tone ---\n",
        "    apathetic_signals = [\"not a big deal\", \"doesn’t matter\", \"don't care\", \"move on\", \"isn't important\",\n",
        "                         \"do not care\", \"could be worse\", \"no point\", \"does not matter\", \"is not important\"]\n",
        "    feats[\"apathetic_signal\"] = sum(1 for phrase in apathetic_signals if phrase in lowered_text)\n",
        "\n",
        "    # --- Modals ---\n",
        "    modals = [\"must\", \"shall\", \"should\", \"need to\", \"ought to\", \"have to\"]\n",
        "    feats[\"modal_present\"] = sum(1 for modal in modals if modal in lowered_text)\n",
        "\n",
        "    # --- Imperatives ---\n",
        "    imperatives = [\"stand up\", \"take back\", \"fight\", \"join\", \"resist\", \"reject\"]\n",
        "    feats[\"imperative_present\"] = sum(1 for imp in imperatives if imp in lowered_text)\n",
        "\n",
        "    # --- Militaristic vocabulary ---\n",
        "    militaristic = {\"troops\", \"attack\", \"defend\", \"enemy\", \"war\", \"mission\", \"strike\", \"military\",\n",
        "                    \"terrorist\", \"missile\", \"bomb\", \"gun\", \"police\", \"officer\", \"army\", \"soldier\"}\n",
        "    feats[\"military_vocab_count\"] = sum(1 for word in lowered if word in militaristic)\n",
        "    feats[\"has_military_terms\"] = int(feats[\"military_vocab_count\"] > 0)\n",
        "\n",
        "    # --- Group Blame ---\n",
        "    blame_patterns = [\"they caused\", \"they ruined\", \"their fault\", \"they are the reason\", \"they must pay\", \"they made\", \"they did\"]\n",
        "    feats[\"group_blaming_language\"] = sum(1 for pattern in blame_patterns if pattern in lowered_text)\n",
        "\n",
        "    # --- Extreme Language ---\n",
        "    extreme_patterns = [\"must kill\", \"kill them\", \"murder them\", \"they are animals\",\n",
        "                        \"we will exterminate\", \"no right to live\", \"need to be wiped out\", \"they must suffer\"]\n",
        "    feats[\"extreme_pattern_match\"] = sum(1 for pattern in extreme_patterns if pattern in lowered_text)\n",
        "\n",
        "    # --- Terrorism terms ---\n",
        "    terrorism_terms = {\"isis\", \"qaeda\", \"terror\", \"terrorists\"}\n",
        "    feats[\"terrorism_term\"] = int(any(word in terrorism_terms for word in lowered))\n",
        "\n",
        "    # === Final tone score ===\n",
        "    tone_score = (\n",
        "        1.5 * feats[\"rhetorical_count\"] +\n",
        "        2.0 * feats[\"has_hate_speech\"] +\n",
        "        2.0 * feats[\"has_violent_terms\"] +\n",
        "        1.2 * feats[\"imperative_present\"] +\n",
        "        1.0 * feats[\"has_ideological_violence\"] +\n",
        "        0.8 * feats[\"pronoun_skew\"] +\n",
        "        0.7 * feats[\"modal_present\"] +\n",
        "        0.5 * feats[\"has_military_terms\"] +\n",
        "        1.0 * feats[\"sentiment_subjectivity\"] +\n",
        "        0.5 * feats[\"terrorism_term\"] +\n",
        "        1.2 * feats[\"group_blaming_language\"] +\n",
        "        1.5 * feats[\"extreme_pattern_match\"] -\n",
        "        1.5 * feats[\"apathetic_signal\"]\n",
        "    )\n",
        "\n",
        "    return {\"tone_score\": tone_score}\n"
      ],
      "metadata": {
        "id": "FyEtH0U3tGQH"
      },
      "execution_count": 79,
      "outputs": []
    },
    {
      "cell_type": "code",
      "execution_count": 80,
      "metadata": {
        "id": "UI0lNKyl7qL8"
      },
      "outputs": [],
      "source": [
        "def improved_bow_featurize(text):\n",
        "    feats = Counter()\n",
        "    words = nltk.word_tokenize(text)\n",
        "    lowered = [w.lower() for w in words]\n",
        "\n",
        "    # --- bag-of-words ---\n",
        "    stopwords_set = set(stopwords.words(\"english\"))\n",
        "\n",
        "    for word in lowered:\n",
        "        if word not in stopwords_set and len(word) > 2 and word.isalpha():\n",
        "            feats[f\"word_{word}\"] += 1\n",
        "\n",
        "    # --- Sentiment features (TextBlob) ---\n",
        "    blob = TextBlob(text)\n",
        "    feats[\"sentiment_polarity\"] = blob.sentiment.polarity\n",
        "    feats[\"sentiment_subjectivity\"] = blob.sentiment.subjectivity\n",
        "\n",
        "    # --- Hate speech / insult terms ---\n",
        "    hate_terms = {\"traitor\", \"invader\", \"scum\", \"vermin\", \"filth\", \"rapist\", \"illegals\", \"hell\", \"devils\"\n",
        "                  \"thugs\", \"cruel\", \"loser\", \"dumb\", \"hate\", \"evil\", \"criminals\", \"animals\",\n",
        "                  \"terrorists\", \"kill\", \"murder\", \"slaughter\", \"extremist\", \"extremists\"}\n",
        "    feats[\"hate_speech_vocab_count\"] = sum(1 for word in lowered if word in hate_terms)\n",
        "\n",
        "    # --- Violent Terms ---\n",
        "    violent_terms = {\"murder\", \"slaughter\", \"execute\", \"exterminate\", \"annihilate\", \"force\"\n",
        "                     \"eradicate\", \"kill\", \"stab\", \"shoot\", \"lynch\", \"hunt\", \"abuse\", \"hang\"}\n",
        "    feats[\"violent_action_count\"] = sum(1 for word in lowered if word in violent_terms)\n",
        "\n",
        "    # --- Ideological Violence ---\n",
        "    if \"beliefs\" in lowered and any(w in lowered for w in violent_terms):\n",
        "      feats[\"ideological_violence_flag\"] = 1\n",
        "\n",
        "    # --- Custom rhetorical keyword features ---\n",
        "    rhetorical_phrases = {\n",
        "        \"we must\": \"rhet_we_must\",\n",
        "        \"fight\": \"rhet_fight\",\n",
        "        \"rigged\": \"rhet_rigged\",\n",
        "        \"enemy\": \"rhet_enemy\",\n",
        "        \"take back\": \"rhet_take_back\",\n",
        "        \"stand up\": \"rhet_stand_up\",\n",
        "        \"we will never\": \"rhet_never_concede\",\n",
        "        \"reclaim\": \"rhet_reclaim\",\n",
        "        \"stop the steal\": \"rhet_stop_the_steal\"\n",
        "    }\n",
        "\n",
        "    lowered_text = \" \".join(lowered)\n",
        "    for phrase, feat_name in rhetorical_phrases.items():\n",
        "        if phrase in lowered_text:\n",
        "            feats[feat_name] += 1\n",
        "\n",
        "    # --- Pronoun distribution ---\n",
        "    first_person_plural = {\"we\", \"our\", \"us\"}\n",
        "    second_person = {\"you\", \"your\", \"yours\"}\n",
        "    third_person_plural = {\"they\", \"them\", \"their\", \"theirs\"}\n",
        "\n",
        "    for word in lowered:\n",
        "        if word in first_person_plural:\n",
        "            feats[\"pronoun_we_group\"] += 1\n",
        "        if word in second_person:\n",
        "            feats[\"pronoun_you\"] += 1\n",
        "        if word in third_person_plural:\n",
        "            feats[\"pronoun_they_group\"] += 1\n",
        "\n",
        "    # --- Apathetic tone ---\n",
        "    apathetic_signals = [\"not a big deal\", \"doesn’t matter\", \"don't care\", \"move on\", \"isn't important\", \"will not\"\n",
        "                         \"do not care\", \"could be worse\", \"no point\", \"does not matter\", \"is not important\"]\n",
        "    for phrase in apathetic_signals:\n",
        "        if phrase in text.lower():\n",
        "            feats[\"apathetic_signal\"] += 1\n",
        "\n",
        "    # --- Modals ---\n",
        "    modals = [\"must\", \"shall\", \"should\", \"need to\", \"ought to\", \"have to\"]\n",
        "    for modal in modals:\n",
        "        if modal in text.lower():\n",
        "            feats[\"modal_present\"] += 1\n",
        "\n",
        "    # --- Commands ---\n",
        "    imperatives = [\"stand up\", \"take back\", \"fight\", \"join\", \"resist\", \"reject\", \"act\"]\n",
        "    for imp in imperatives:\n",
        "        if imp in text.lower():\n",
        "            feats[\"imperative_present\"] += 1\n",
        "\n",
        "    # --- Militaristic vocabulary ---\n",
        "    militaristic = {\"troops\", \"attack\", \"defend\", \"enemy\", \"war\", \"mission\", \"strike\", \"military\",\n",
        "                    \"terrorist\", \"missile\", \"bomb\", \"gun\", \"police\", \"officer\", \"army\", \"soldier\"}\n",
        "    feats[\"military_vocab_count\"] = sum(1 for word in lowered if word in militaristic)\n",
        "\n",
        "    # --- Group Blame ---\n",
        "    blame_patterns = [\"they caused\", \"they ruined\", \"their fault\", \"they are the reason\", \"they must pay\", \"they made\", \"they did\"]\n",
        "    for pattern in blame_patterns:\n",
        "        if pattern in lowered_text:\n",
        "            feats[\"group_blaming_language\"] += 1\n",
        "\n",
        "    # -- Political Distrust --\n",
        "    politic_bad = [\"crooked\", \"corrupt\", \"rigged\", \"thieves\", \"woke\", \"radical\", \"racist\", \"bigotted\", \"manipulating\"]\n",
        "    for pattern in blame_patterns:\n",
        "        if pattern in lowered_text:\n",
        "            feats[\"political_distruct_language\"] += 1\n",
        "\n",
        "    # --- Extreme Language ---\n",
        "    extreme_patterns = [\"must kill\", \"kill them\", \"murder them\", \"they are animals\", \"radical left\", \"woke\",\n",
        "                        \"we will exterminate\", \"no right to live\", \"need to be wiped out\", \"they must suffer\"]\n",
        "    for pattern in extreme_patterns:\n",
        "        if pattern in lowered_text:\n",
        "            feats[\"extreme_pattern_match\"] += 1\n",
        "\n",
        "    terrorism_terms = {\"isis\", \"qaeda\", \"terror\", \"terrorists\"}\n",
        "\n",
        "    feats[\"terrorism_term\"] = int(any(word in terrorism_terms for word in lowered))\n",
        "    feats[\"has_hate_speech\"] = int(feats[\"hate_speech_vocab_count\"] > 0)\n",
        "    feats[\"has_violent_terms\"] = int(feats[\"violent_action_count\"] > 0)\n",
        "    feats[\"has_military_terms\"] = int(feats[\"military_vocab_count\"] > 0)\n",
        "    feats[\"has_ideological_violence\"] = feats.get(\"ideological_violence_flag\", 0)\n",
        "\n",
        "    # # --- Minimiziers ---\n",
        "    # minimizers = [\"maybe\", \"probably\", \"not a big deal\", \"could be worse\"]\n",
        "    # for word in minimizers:\n",
        "    #     if word in text.lower():\n",
        "    #         feats[\"minimizer_present\"] += 1\n",
        "\n",
        "    # # --- Fact Based ---\n",
        "    # fact_based = {\"data\", \"policy\", \"evidence\", \"report\", \"analysis\", \"studies\", \"economic\", \"legal\", \"proven\"}\n",
        "    # feats[\"fact_based_count\"] = sum(1 for word in lowered if word in fact_based)\n",
        "    # feats[\"uses_fact_based_terms\"] = int(feats[\"fact_based_count\"] > 0)\n",
        "\n",
        "    # # --- Hopeful Terms ---\n",
        "    # hopeful_terms = {\"hope\", \"dream\", \"together\", \"unite\", \"justice\", \"peace\", \"love\", \"freedom\"}\n",
        "    # feats[\"positive_persuasion\"] = sum(1 for word in lowered if word in hopeful_terms)\n",
        "\n",
        "    # racial_terms = {\"white\", \"black\", \"blacks\", \"muslims\", \"negro\", \"jews\", \"latinos\", \"viet\", \"arab\"}\n",
        "    # oppression_terms = {\"segregation\", \"racism\", \"racist\", \"slavery\"}\n",
        "\n",
        "    # feats[\"racial_identity_term\"] = int(any(word in racial_terms for word in lowered))\n",
        "    # feats[\"oppression_term\"] = int(any(word in oppression_terms for word in lowered))\n",
        "\n",
        "    return feats"
      ]
    },
    {
      "cell_type": "code",
      "execution_count": 81,
      "metadata": {
        "id": "zehouefX7qL9"
      },
      "outputs": [],
      "source": [
        "def confidence_intervals(accuracy, n, significance_level):\n",
        "    critical_value=(1-significance_level)/2\n",
        "    z_alpha=-1*norm.ppf(critical_value)\n",
        "    se=math.sqrt((accuracy*(1-accuracy))/n)\n",
        "    return accuracy-(se*z_alpha), accuracy+(se*z_alpha)"
      ]
    },
    {
      "cell_type": "code",
      "source": [
        "def example_classifications(classifier):\n",
        "  sentence = \"not a big deal\"\n",
        "  predicted_label, probs = classifier.predict_one(sentence)\n",
        "  print(f\"Predicted tone: {predicted_label}\")\n",
        "  print(f\"Probabilities: {probs}\")\n",
        "\n",
        "  sentence = \"We the people.\"\n",
        "  predicted_label, probs = classifier.predict_one(sentence)\n",
        "  print(f\"Predicted tone: {predicted_label}\")\n",
        "  print(f\"Probabilities: {probs}\")\n",
        "\n",
        "  sentence = \"This is an important problem, and they are the ones to blame\"\n",
        "  predicted_label, probs = classifier.predict_one(sentence)\n",
        "  print(f\"Predicted tone: {predicted_label}\")\n",
        "  print(f\"Probabilities: {probs}\")\n",
        "\n",
        "  sentence = \"The radical left knows exactly what they're doing. They're ruthless and it's time that somebody did something about it.\"\n",
        "  predicted_label, probs = classifier.predict_one(sentence)\n",
        "\n",
        "  print(f\"Predicted tone: {predicted_label}\")\n",
        "  print(f\"Probabilities: {probs}\")\n",
        "\n",
        "def test_all_models(classifier):\n",
        "\n",
        "  rule_only_dev = classifier.example_test(dataset=\"dev\", use_rule_only=True)\n",
        "  print(f\"Rule-only dev accuracy: {rule_only_dev:.3f}\")\n",
        "\n",
        "  rule_only_test = classifier.example_test(dataset=\"test\", use_rule_only=True)\n",
        "  print(f\"Rule-only test accuracy: {rule_only_test:.3f}\")\n",
        "\n",
        "  baseline_dev = classifier.example_test(dataset=\"dev\", use_override=False)\n",
        "  print(f\"Model-only dev accuracy: {baseline_dev:.3f}\")\n",
        "\n",
        "  baseline_test = classifier.example_test(dataset=\"test\", use_override=False)\n",
        "  print(f\"Model-only test accuracy: {baseline_test:.3f}\")\n",
        "\n",
        "  dev_acc = classifier.example_test(dataset=\"dev\", use_override=True)\n",
        "  print(f\"Hybrid dev accuracy: {dev_acc:.3f}\")\n",
        "\n",
        "  test_acc = classifier.example_test(dataset=\"test\", use_override=True)\n",
        "  print(f\"Hybrid test accuracy: {test_acc:.3f}\")"
      ],
      "metadata": {
        "id": "WkeW9BmriXEN"
      },
      "execution_count": 94,
      "outputs": []
    },
    {
      "cell_type": "code",
      "execution_count": 103,
      "metadata": {
        "id": "TwSlD-Cc7qL9"
      },
      "outputs": [],
      "source": [
        "def run(trainingFile, devFile, testFile, ordinal_values):\n",
        "\n",
        "    trainX, trainY, orig_trainY=load_ordinal_data(trainingFile, ordinal_values)\n",
        "    devX, devY, orig_devY=load_ordinal_data(devFile, ordinal_values)\n",
        "    testX, testY, orig_testY=load_ordinal_data(testFile, ordinal_values)\n",
        "\n",
        "    simple_classifier = OrdinalClassifier(ordinal_values, improved_bow_featurize, trainX, trainY, devX, devY, testX, testY, orig_trainY, orig_devY, orig_testY)\n",
        "    simple_classifier.train()\n",
        "    accuracy=simple_classifier.test()\n",
        "\n",
        "    lower, upper=confidence_intervals(accuracy, len(testY[0]), .95)\n",
        "    print(\"Test accuracy for best dev model:\\n%.3f, 95%% Confidence Intervals: [%.3f %.3f]\\n\" % (accuracy, lower, upper))\n",
        "\n",
        "    # example_classifications(simple_classifier)\n",
        "    print(\"Testing other variations of the model and reporting their accuracies:\\n\")\n",
        "    test_all_models(simple_classifier)\n",
        "\n",
        "    return simple_classifier"
      ]
    },
    {
      "cell_type": "code",
      "execution_count": 104,
      "metadata": {
        "colab": {
          "base_uri": "https://localhost:8080/"
        },
        "id": "G7aOB6N07qL-",
        "outputId": "98e5f679-f2c4-4aa1-bec2-44d072813107"
      },
      "outputs": [
        {
          "output_type": "stream",
          "name": "stdout",
          "text": [
            "Test accuracy for best dev model:\n",
            "0.700, 95% Confidence Intervals: [0.610 0.790]\n",
            "\n",
            "Testing other variations of the model and reporting their accuracies:\n",
            "\n",
            "Rule-only dev accuracy: 0.410\n",
            "Rule-only test accuracy: 0.560\n",
            "Model-only dev accuracy: 0.640\n",
            "Model-only test accuracy: 0.700\n",
            "Hybrid dev accuracy: 0.560\n",
            "Hybrid test accuracy: 0.710\n"
          ]
        }
      ],
      "source": [
        "trainingFile = \"drive/MyDrive/train.txt\"\n",
        "devFile = \"drive/MyDrive/dev.txt\"\n",
        "testFile = \"drive/MyDrive/test.txt\"\n",
        "\n",
        "ordinal_values=[\"Apathetic\", \"Moderate\", \"Strongly Worded\", \"Extreme\"]\n",
        "\n",
        "classifier = run(trainingFile, devFile, testFile, ordinal_values)"
      ]
    },
    {
      "cell_type": "markdown",
      "source": [
        "## **Analysis**"
      ],
      "metadata": {
        "id": "6umXIrx4OFwr"
      }
    },
    {
      "cell_type": "markdown",
      "source": [
        "### What labels are often mistaken for each other -- Confusion Matrix:\n",
        "\n"
      ],
      "metadata": {
        "id": "KJl82BxhOaX3"
      }
    },
    {
      "cell_type": "code",
      "source": [
        "def plot_confusion_matrix(classifier):\n",
        "  y_true, y_pred = classifier.get_predictions()\n",
        "  cm = confusion_matrix(y_true, y_pred, labels=classifier.ordinal_values)\n",
        "  disp = ConfusionMatrixDisplay(confusion_matrix=cm, display_labels=classifier.ordinal_values)\n",
        "  disp.plot(cmap=\"Blues\")\n",
        "\n",
        "plot_confusion_matrix(classifier)"
      ],
      "metadata": {
        "id": "7fRlWnhuOgGI",
        "colab": {
          "base_uri": "https://localhost:8080/",
          "height": 449
        },
        "outputId": "dae51c1c-d4af-4773-97a2-d261eb9ca6f7"
      },
      "execution_count": 85,
      "outputs": [
        {
          "output_type": "display_data",
          "data": {
            "text/plain": [
              "<Figure size 640x480 with 2 Axes>"
            ],
            "image/png": "[encoded data removed]"
          },
          "metadata": {}
        }
      ]
    },
    {
      "cell_type": "markdown",
      "source": [
        "0 Apathetic Predicted, 0 Extreme Predicted:\n",
        "  - Reason for this is probably that not as much data for these categories to train our model on, leads to it over predicting the more prevalent labels (Moderate and Strongly Worded)\n",
        "  - Might need to find more features that help differentiate between strongly worded and extreme since most extremes were predicted to be Strongly Worded."
      ],
      "metadata": {
        "id": "wTrnCbSGc5eU"
      }
    },
    {
      "cell_type": "markdown",
      "source": [
        "The confusion matrix revealed important patterns in the model’s performance. Notably, there were zero Apathetic and zero Extreme predictions across the entire test set. This suggests that the model is heavily biased toward predicting the more frequent categories (Moderate and Strongly Worded) which clearly reflects the distribution of the training data we provided. With fewer Apathetic and Extreme examples available during training, the model lacked sufficient examples to learn strong, distinguishing decision boundaries for these rarer classes. As a result, ambiguous or borderline examples were systematically pushed toward the more common categories. Additionally, many true Extreme examples were predicted as Strongly Worded. This indicates that while the model can recognize intensity, it struggles to separate violent rhetoric (Extreme) from strong but non-violent rhetoric (Strongly Worded)."
      ],
      "metadata": {
        "id": "7J8Aojee4Zou"
      }
    },
    {
      "cell_type": "markdown",
      "source": [
        "### What features are learned to most define the classes?"
      ],
      "metadata": {
        "id": "YreJloiTOgmi"
      }
    },
    {
      "cell_type": "code",
      "source": [
        "classifier.print_feature_importance(high_only = True, top_n = 10)"
      ],
      "metadata": {
        "id": "6B_nMw8MOku4",
        "colab": {
          "base_uri": "https://localhost:8080/"
        },
        "outputId": "3765c5d4-149a-4854-b554-f258f6d894b2"
      },
      "execution_count": 86,
      "outputs": [
        {
          "output_type": "stream",
          "name": "stdout",
          "text": [
            "\n",
            "--- Feature importances for Moderate and above ---\n",
            "\n",
            "Highest-weighted features:\n",
            "pronoun_they_group             0.093\n",
            "military_vocab_count           0.056\n",
            "pronoun_we_group               0.050\n",
            "word_people                    0.049\n",
            "has_military_terms             0.037\n",
            "pronoun_you                    0.034\n",
            "modal_present                  0.033\n",
            "imperative_present             0.031\n",
            "word_world                     0.029\n",
            "word_war                       0.027\n",
            "\n",
            "--- Feature importances for Strongly Worded and above ---\n",
            "\n",
            "Highest-weighted features:\n",
            "word_white                     1.156\n",
            "word_negro                     0.971\n",
            "word_longer                    0.847\n",
            "word_time                      0.763\n",
            "word_years                     0.740\n",
            "word_segregation               0.725\n",
            "word_racist                    0.679\n",
            "word_racism                    0.675\n",
            "word_struggle                  0.653\n",
            "word_government                0.642\n",
            "\n",
            "--- Feature importances for Extreme and above ---\n",
            "\n",
            "Highest-weighted features:\n",
            "violent_action_count           0.298\n",
            "terrorism_term                 0.270\n",
            "imperative_present             0.224\n",
            "word_act                       0.215\n",
            "word_hang                      0.213\n",
            "word_throughout                0.211\n",
            "word_segregation               0.198\n",
            "word_immediately               0.197\n",
            "word_ever                      0.195\n",
            "word_terrorists                0.195\n"
          ]
        }
      ]
    },
    {
      "cell_type": "markdown",
      "source": [
        "The majority of the features that the model learned with a high frequency were expected; nevertheless, there are some features that were learned that came as a surprise to us. For Moderate text, the model learned that the presence of collective pronouns like \"they\" and \"we\" (pronoun_they_group, pronoun_we_group) was highly predictive. However, it was somewhat surprising that military vocabulary (military_vocab_count, has_military_terms) also had a positive weight toward Moderate. We originally anticipated military language would be more indicative of Strongly Worded or Extreme rhetoric, but the model suggests that references to military or national security are common even in moderate political discourse without necessarily conveying aggression.\n",
        "\n",
        "For Strongly Worded text, the model heavily emphasized racial and historical terms such as \"white\", \"negro\", \"segregation\", \"racism\", and \"struggle\". This was largely expected, given that many strongly worded political speeches historically reference racial injustice and societal divides with assertive language. However, the magnitude of importance placed on racial identifiers was larger than we had initially anticipated, suggesting that the model strongly associates Strongly Worded tone with discussions of racial events, even when explicit violent rhetoric is absent.\n",
        "\n",
        "For Extreme text, the model correctly prioritized features related to violence and terror, such as violent_action_count, terrorism_term, and words like \"act\", \"hang\", \"terrorists\", and \"immediately\". This matches our expectations as we predcited that references to violence, calls for immediate radical action, and the use of terrorism-related language would be highly indicative of Extreme tone. Interestingly, the model assigned notable weight to the word \"throughout\" as well, potentially capturing how extreme rhetoric sometimes uses sweeping generalizations across populations or geographic spaces."
      ],
      "metadata": {
        "id": "vxifG7IZjloJ"
      }
    },
    {
      "cell_type": "markdown",
      "source": [
        "### What kind of systematic mistakes does your model make?"
      ],
      "metadata": {
        "id": "m1DoYtkPOlZh"
      }
    },
    {
      "cell_type": "code",
      "source": [
        "def print_misclassified_examples(classifier):\n",
        "    preds = [lr.predict_proba(classifier.testX)[:, 1] for lr in classifier.log_regs]\n",
        "    preds = np.array(preds)\n",
        "    confusion_pairs = Counter()\n",
        "\n",
        "    for i in range(len(preds[0])):\n",
        "        ordinal_probs = np.zeros(len(classifier.ordinal_values))\n",
        "        ordinal_probs[0] = 1 - preds[0][i]\n",
        "        for j in range(1, len(classifier.ordinal_values) - 1):\n",
        "            ordinal_probs[j] = preds[j - 1][i] - preds[j][i]\n",
        "        ordinal_probs[-1] = preds[-1][i]\n",
        "\n",
        "        predicted_idx = np.argmax(ordinal_probs)\n",
        "        gold_idx = classifier.ordinal_values.index(classifier.orig_testY[i])\n",
        "\n",
        "        if predicted_idx != gold_idx:\n",
        "            gold_label = classifier.ordinal_values[gold_idx]\n",
        "            predicted_label = classifier.ordinal_values[predicted_idx]\n",
        "            confusion_pairs[(gold_label, predicted_label)] += 1\n",
        "\n",
        "    print(\"Most common confusion pairs (gold → predicted):\")\n",
        "    for (gold, pred), count in confusion_pairs.most_common():\n",
        "        print(f\"{gold:20s} → {pred:20s}: {count} times\")\n",
        "\n",
        "print_misclassified_examples(classifier)"
      ],
      "metadata": {
        "colab": {
          "base_uri": "https://localhost:8080/"
        },
        "id": "Vj7OGBI4Ot4k",
        "outputId": "47924d8e-fd8a-4a29-ff31-85bd9160e0ab"
      },
      "execution_count": 87,
      "outputs": [
        {
          "output_type": "stream",
          "name": "stdout",
          "text": [
            "Most common confusion pairs (gold → predicted):\n",
            "Moderate             → Strongly Worded     : 14 times\n",
            "Extreme              → Strongly Worded     : 9 times\n",
            "Strongly Worded      → Moderate            : 5 times\n",
            "Apathetic            → Moderate            : 1 times\n",
            "Extreme              → Moderate            : 1 times\n"
          ]
        }
      ]
    },
    {
      "cell_type": "markdown",
      "source": [
        "We observed that the model tended to systematically confuse examples labeled as “Moderate” or “Extreme” with “Strongly Worded”, showing it struggles to distinguish between different intensities of emotional language. For instance, strongly emotional texts such as “And it is a war of unparalleled brutality…” and “Historically, revolutions are bloody, oh yes they are..” were both gold-labeled as “Extreme” but incorrectly predicted as “Strongly Worded”, while more moderate texts like “And going forward, it is essential that Pakistan continue to join us in the fight against al Qaeda..” and “Your struggles are our struggles” were also misclassified the same way. Even intense language, like \"We fight like Hell and if you don't fight like Hell, you're not going to have a country anymore,\" was marked as “Strongly Worded” instead of “Extreme.” Occasionally, it also confused apathetic statements, such as \"We must begin by acknowledging the hard truth: We will not eradicate violent conflict in our lifetimes,\" with “Moderate.” Overall, these mistakes suggest the model has a hard time detecting fine-grained differences in intensity and often leans toward predicting middle-ground labels like “Strongly Worded” when faced with both moderate and extreme input."
      ],
      "metadata": {
        "id": "n2SlY29CjkLP"
      }
    },
    {
      "cell_type": "markdown",
      "source": [
        "### Is one label extremely prevalent? How could this impact the model you developed? Is your dataset a good candidate for strategies like oversampling or changing class weights?"
      ],
      "metadata": {
        "id": "eedjGjuoOx4-"
      }
    },
    {
      "cell_type": "code",
      "source": [
        "y_true, y_pred = classifier.get_predictions()\n",
        "\n",
        "predicted_counts = Counter(y_pred)\n",
        "\n",
        "print(\"Number of times each label was predicted:\")\n",
        "for label in classifier.ordinal_values:\n",
        "    print(f\"{label:20s}: {predicted_counts[label]} times\")"
      ],
      "metadata": {
        "colab": {
          "base_uri": "https://localhost:8080/"
        },
        "id": "ayQkblzQdnt_",
        "outputId": "cb797bbb-e22d-413c-a48a-d567cd1a14da"
      },
      "execution_count": 88,
      "outputs": [
        {
          "output_type": "stream",
          "name": "stdout",
          "text": [
            "Number of times each label was predicted:\n",
            "Apathetic           : 0 times\n",
            "Moderate            : 44 times\n",
            "Strongly Worded     : 56 times\n",
            "Extreme             : 0 times\n"
          ]
        }
      ]
    },
    {
      "cell_type": "markdown",
      "source": [
        "Clear that apathetic and extreme are either not as prevalent due to being on the extremes in terms of rhetoric or because our way of classifying what qualifies as either is not clear or might be too specific.\n",
        "- This could be a problem with Strongly Worded and Moderate being too vague as some excerpts which would normally be classified on either extreme don't fall under either extreme or apathetic due to bad class weighting.\n",
        "- Could also be a problem with how most of our examples fall under Strongly Worded or Moderate, not enough examples of Apathetic and Extreme in our training data."
      ],
      "metadata": {
        "id": "MJD3nopnd3Sr"
      }
    },
    {
      "cell_type": "markdown",
      "source": [
        "The moderate and strongly worded labels are extremely prevalent in our dataset. This leads the model to heavily predict either Moderate or Strongly Worded. Some runs of the model even predict Apathetic or Extreme 0 times. We determined that our dataset did not have enough Apathetic or Extreme quotes for our model to accurately predict them. Another thing that could have contributed to this is that political speeches are often in a Moderate or Strongly Worded tone. Politicians most likely don’t want to come across like they don’t care about an issue, or that their stance is too extreme, so it would make sense for most political speeches to lie in the middle."
      ],
      "metadata": {
        "id": "MRpadbQ41EHy"
      }
    },
    {
      "cell_type": "markdown",
      "source": [
        "### What improvements can be made to this model?"
      ],
      "metadata": {
        "id": "ViM1mhfz0srh"
      }
    },
    {
      "cell_type": "markdown",
      "source": [
        "Our model ultimately ended up getting a 70% accuracy on the test set, altough this is quite high, considering our baseline was 38%, there is definitely still some room for improvement. Including more speeches from a wider range of political eras within the training set would provide a wider range of political perspective which would furhter assist the model with accurately predicting tone regardless of time-period. Furthermore, including speeches from different political affiliations, especially those on either extreme of the political spectrum, would allow for better collection and representation of both apathetic and extreme labels which would in turn help the model better determine those labels. To improve on the analysis itself we could add more features and implement Cross-Validation and analyzing VIFs for tuning hyper-parameters."
      ],
      "metadata": {
        "id": "UMpBuVxP0xE0"
      }
    },
    {
      "cell_type": "code",
      "source": [],
      "metadata": {
        "id": "ZBPKBMbK0wgE"
      },
      "execution_count": 88,
      "outputs": []
    }
  ],
  "metadata": {
    "colab": {
      "provenance": []
    },
    "kernelspec": {
      "display_name": "Python 3 (ipykernel)",
      "language": "python",
      "name": "python3"
    },
    "language_info": {
      "codemirror_mode": {
        "name": "ipython",
        "version": 3
      },
      "file_extension": ".py",
      "mimetype": "text/x-python",
      "name": "python",
      "nbconvert_exporter": "python",
      "pygments_lexer": "ipython3",
      "version": "3.8.3"
    }
  },
  "nbformat": 4,
  "nbformat_minor": 0
}